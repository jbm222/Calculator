{
  "nbformat": 4,
  "nbformat_minor": 0,
  "metadata": {
    "colab": {
      "provenance": [],
      "authorship_tag": "ABX9TyNqUi9NI3HdXv7gBFSRCcTk",
      "include_colab_link": true
    },
    "kernelspec": {
      "name": "python3",
      "display_name": "Python 3"
    },
    "language_info": {
      "name": "python"
    }
  },
  "cells": [
    {
      "cell_type": "markdown",
      "metadata": {
        "id": "view-in-github",
        "colab_type": "text"
      },
      "source": [
        "<a href=\"https://colab.research.google.com/github/jbm222/Calculator/blob/main/Calculator.ipynb\" target=\"_parent\"><img src=\"https://colab.research.google.com/assets/colab-badge.svg\" alt=\"Open In Colab\"/></a>"
      ]
    },
    {
      "cell_type": "code",
      "execution_count": null,
      "metadata": {
        "colab": {
          "base_uri": "https://localhost:8080/"
        },
        "id": "rMcxsQqbbqIV",
        "outputId": "07e52e90-8bd9-43ff-b79b-0d938c597984"
      },
      "outputs": [
        {
          "name": "stdout",
          "output_type": "stream",
          "text": [
            "Enter first number: 1\n",
            "Enter second number: 4\n",
            "enter the operator: continue\n",
            "invalid operator: continue\n",
            "Enter first number: 1\n",
            "Enter second number: 3\n",
            "enter the operator: break\n"
          ]
        }
      ],
      "source": [
        "while True:\n",
        "  num1 = float(input(\"Enter first number: \"))\n",
        "  num2 = float(input(\"Enter second number: \"))\n",
        "  operator = input('enter the operator: ')\n",
        "  if operator =='break':\n",
        "    break\n",
        "  if operator == \"+\":\n",
        "    print(num1 + num2)\n",
        "  elif operator == \"-\":\n",
        "    print(num1 - num2)\n",
        "  elif operator == \"*\":\n",
        "    print(num1 * num2)\n",
        "  elif operator == \"/\":\n",
        "    print(num1/num2)\n",
        "  elif operator == \"//\":\n",
        "    print(num1 // num2)\n",
        "  elif operator == \"**\":\n",
        "    print(num1 ** num2)\n",
        "  elif operator == \"%\":\n",
        "    print(num1 % num2)\n",
        "  else:\n",
        "    print('invalid operator:',operator)\n",
        "    continue\n",
        "\n",
        "\n",
        "\n",
        "\n",
        "\n",
        "\n",
        "\n"
      ]
    }
  ]
}